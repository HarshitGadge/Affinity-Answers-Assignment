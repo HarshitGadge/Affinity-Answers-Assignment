{
  "nbformat": 4,
  "nbformat_minor": 0,
  "metadata": {
    "colab": {
      "provenance": []
    },
    "kernelspec": {
      "name": "python3",
      "display_name": "Python 3"
    },
    "language_info": {
      "name": "python"
    }
  },
  "cells": [
    {
      "cell_type": "code",
      "execution_count": 5,
      "metadata": {
        "colab": {
          "base_uri": "https://localhost:8080/"
        },
        "id": "KCDY8oqz6l0P",
        "outputId": "24f51def-dee8-40fd-b8b1-13a88ed8fbcd"
      },
      "outputs": [
        {
          "output_type": "stream",
          "name": "stderr",
          "text": [
            "/usr/local/lib/python3.10/dist-packages/urllib3/connectionpool.py:1095: InsecureRequestWarning: Unverified HTTPS request is being made to host 'api.postalpincode.in'. Adding certificate verification is strongly advised. See: https://urllib3.readthedocs.io/en/latest/advanced-usage.html#tls-warnings\n",
            "  warnings.warn(\n"
          ]
        },
        {
          "output_type": "stream",
          "name": "stdout",
          "text": [
            "[{'Message': 'Number of pincode(s) found:1', 'Status': 'Success', 'PostOffice': [{'Name': 'Kharghar', 'Description': None, 'BranchType': 'Sub Post Office', 'DeliveryStatus': 'Delivery', 'Circle': 'Maharashtra', 'District': 'Raigarh(MH)', 'Division': 'New Mumbai', 'Region': 'Mumbai', 'Block': 'Panvel', 'State': 'Maharashtra', 'Country': 'India', 'Pincode': '410210'}]}]\n",
            "Kharghar\n",
            "True\n"
          ]
        }
      ],
      "source": [
        "import requests\n",
        "\n",
        "def check_pincode(address):\n",
        "  url = \"https://api.postalpincode.in/pincode/\" + address.split(\" \")[-1]   #to retreive the last block i.e. the pincode of the address\n",
        "  response = requests.get(url,verify= False)\n",
        "  if response.status_code == 200:                #HTTP response 200 means 'OK'\n",
        "      data = response.json()\n",
        "      print(data)\n",
        "      print(data[0][\"PostOffice\"][0][\"Name\"])\n",
        "      if data[0][\"Status\"] == \"Success\" and len(address.split(\" \"))>5 and data[0][\"PostOffice\"][0][\"Name\"] in address:\n",
        "        return True\n",
        "  return False\n",
        "\n",
        "\n",
        "def main():\n",
        "  address = \"Tulsi Mangalam Kharghar Navi mumbai 410210\"\n",
        "  print(check_pincode(address))\n",
        "\n",
        "if __name__ == \"__main__\":\n",
        "  main()\n"
      ]
    }
  ]
}